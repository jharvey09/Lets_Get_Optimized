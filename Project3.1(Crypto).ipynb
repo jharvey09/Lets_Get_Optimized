{
 "cells": [
  {
   "cell_type": "code",
   "execution_count": 1,
   "id": "1e76bca8-174d-4e1e-b8eb-29d811c32d31",
   "metadata": {},
   "outputs": [],
   "source": [
    "# Initial imports\n",
    "import pandas as pd\n",
    "import numpy as np\n",
    "from pathlib import Path\n",
    "import matplotlib.pyplot as plt\n",
    "from sklearn import svm\n",
    "from sklearn.preprocessing import StandardScaler\n",
    "from pandas.tseries.offsets import DateOffset\n",
    "from sklearn.metrics import classification_report\n",
    "\n",
    "%matplotlib inline"
   ]
  },
  {
   "cell_type": "code",
   "execution_count": 2,
   "id": "67fbe192-9f7e-4680-8219-9a05e83cf6d6",
   "metadata": {},
   "outputs": [
    {
     "data": {
      "text/html": [
       "<div>\n",
       "<style scoped>\n",
       "    .dataframe tbody tr th:only-of-type {\n",
       "        vertical-align: middle;\n",
       "    }\n",
       "\n",
       "    .dataframe tbody tr th {\n",
       "        vertical-align: top;\n",
       "    }\n",
       "\n",
       "    .dataframe thead th {\n",
       "        text-align: right;\n",
       "    }\n",
       "</style>\n",
       "<table border=\"1\" class=\"dataframe\">\n",
       "  <thead>\n",
       "    <tr style=\"text-align: right;\">\n",
       "      <th></th>\n",
       "      <th>SNo</th>\n",
       "      <th>Name</th>\n",
       "      <th>Symbol</th>\n",
       "      <th>High</th>\n",
       "      <th>Low</th>\n",
       "      <th>Open</th>\n",
       "      <th>Close</th>\n",
       "      <th>Volume</th>\n",
       "      <th>Marketcap</th>\n",
       "    </tr>\n",
       "    <tr>\n",
       "      <th>Date</th>\n",
       "      <th></th>\n",
       "      <th></th>\n",
       "      <th></th>\n",
       "      <th></th>\n",
       "      <th></th>\n",
       "      <th></th>\n",
       "      <th></th>\n",
       "      <th></th>\n",
       "      <th></th>\n",
       "    </tr>\n",
       "  </thead>\n",
       "  <tbody>\n",
       "    <tr>\n",
       "      <th>2018-10-09 23:59:59</th>\n",
       "      <td>1</td>\n",
       "      <td>USD Coin</td>\n",
       "      <td>USDC</td>\n",
       "      <td>1.00833</td>\n",
       "      <td>1.00003</td>\n",
       "      <td>1.00427</td>\n",
       "      <td>1.00686</td>\n",
       "      <td>108803.0</td>\n",
       "      <td>0.0</td>\n",
       "    </tr>\n",
       "    <tr>\n",
       "      <th>2018-10-10 23:59:59</th>\n",
       "      <td>2</td>\n",
       "      <td>USD Coin</td>\n",
       "      <td>USDC</td>\n",
       "      <td>1.01908</td>\n",
       "      <td>1.00397</td>\n",
       "      <td>1.00494</td>\n",
       "      <td>1.00962</td>\n",
       "      <td>711783.0</td>\n",
       "      <td>0.0</td>\n",
       "    </tr>\n",
       "    <tr>\n",
       "      <th>2018-10-11 23:59:59</th>\n",
       "      <td>3</td>\n",
       "      <td>USD Coin</td>\n",
       "      <td>USDC</td>\n",
       "      <td>1.03123</td>\n",
       "      <td>1.00173</td>\n",
       "      <td>1.00994</td>\n",
       "      <td>1.00978</td>\n",
       "      <td>4177290.0</td>\n",
       "      <td>0.0</td>\n",
       "    </tr>\n",
       "    <tr>\n",
       "      <th>2018-10-12 23:59:59</th>\n",
       "      <td>4</td>\n",
       "      <td>USD Coin</td>\n",
       "      <td>USDC</td>\n",
       "      <td>1.01871</td>\n",
       "      <td>1.00114</td>\n",
       "      <td>1.00861</td>\n",
       "      <td>1.01272</td>\n",
       "      <td>1322240.0</td>\n",
       "      <td>0.0</td>\n",
       "    </tr>\n",
       "    <tr>\n",
       "      <th>2018-10-13 23:59:59</th>\n",
       "      <td>5</td>\n",
       "      <td>USD Coin</td>\n",
       "      <td>USDC</td>\n",
       "      <td>1.02029</td>\n",
       "      <td>1.00355</td>\n",
       "      <td>1.01445</td>\n",
       "      <td>1.00743</td>\n",
       "      <td>698507.0</td>\n",
       "      <td>0.0</td>\n",
       "    </tr>\n",
       "  </tbody>\n",
       "</table>\n",
       "</div>"
      ],
      "text/plain": [
       "                     SNo      Name Symbol     High      Low     Open    Close  \\\n",
       "Date                                                                            \n",
       "2018-10-09 23:59:59    1  USD Coin   USDC  1.00833  1.00003  1.00427  1.00686   \n",
       "2018-10-10 23:59:59    2  USD Coin   USDC  1.01908  1.00397  1.00494  1.00962   \n",
       "2018-10-11 23:59:59    3  USD Coin   USDC  1.03123  1.00173  1.00994  1.00978   \n",
       "2018-10-12 23:59:59    4  USD Coin   USDC  1.01871  1.00114  1.00861  1.01272   \n",
       "2018-10-13 23:59:59    5  USD Coin   USDC  1.02029  1.00355  1.01445  1.00743   \n",
       "\n",
       "                        Volume  Marketcap  \n",
       "Date                                       \n",
       "2018-10-09 23:59:59   108803.0        0.0  \n",
       "2018-10-10 23:59:59   711783.0        0.0  \n",
       "2018-10-11 23:59:59  4177290.0        0.0  \n",
       "2018-10-12 23:59:59  1322240.0        0.0  \n",
       "2018-10-13 23:59:59   698507.0        0.0  "
      ]
     },
     "execution_count": 2,
     "metadata": {},
     "output_type": "execute_result"
    }
   ],
   "source": [
    "data_path = Path(\"coin_XRP.csv\")\n",
    "xrp_df = pd.read_csv(data_path, index_col=\"Date\", infer_datetime_format=True, parse_dates=True)\n",
    "xrp_df.sort_index(inplace=True)\n",
    "\n",
    "data_path = Path(\"coin_Solana.csv\")\n",
    "sol_df = pd.read_csv(data_path, index_col=\"Date\", infer_datetime_format=True, parse_dates=True)\n",
    "sol_df.sort_index(inplace=True)\n",
    "\n",
    "data_path = Path(\"coin_Dogecoin.csv\")\n",
    "doge_df = pd.read_csv(data_path, index_col=\"Date\", infer_datetime_format=True, parse_dates=True)\n",
    "doge_df.sort_index(inplace=True)\n",
    "\n",
    "data_path = Path(\"coin_Ethereum.csv\")\n",
    "eth_df = pd.read_csv(data_path, index_col=\"Date\", infer_datetime_format=True, parse_dates=True)\n",
    "eth_df.sort_index(inplace=True)\n",
    "\n",
    "data_path = Path(\"coin_Bitcoin.csv\")\n",
    "bit_df = pd.read_csv(data_path, index_col=\"Date\", infer_datetime_format=True, parse_dates=True)\n",
    "bit_df.sort_index(inplace=True)\n",
    "\n",
    "data_path = Path(\"coin_Cardano.csv\")\n",
    "ada_df = pd.read_csv(data_path, index_col=\"Date\", infer_datetime_format=True, parse_dates=True)\n",
    "ada_df.sort_index(inplace=True)\n",
    "\n",
    "data_path = Path(\"coin_CryptocomCoin.csv\")\n",
    "cro_df = pd.read_csv(data_path, index_col=\"Date\", infer_datetime_format=True, parse_dates=True)\n",
    "cro_df.sort_index(inplace=True)\n",
    "\n",
    "data_path = Path(\"coin_Litecoin.csv\")\n",
    "ltc_df = pd.read_csv(data_path, index_col=\"Date\", infer_datetime_format=True, parse_dates=True)\n",
    "ltc_df.sort_index(inplace=True)\n",
    "\n",
    "data_path = Path(\"coin_Uniswap.csv\")\n",
    "uni_df = pd.read_csv(data_path, index_col=\"Date\", infer_datetime_format=True, parse_dates=True)\n",
    "uni_df.sort_index(inplace=True)\n",
    "\n",
    "data_path = Path(\"coin_USDCoin.csv\")\n",
    "usdc_df = pd.read_csv(data_path, index_col=\"Date\", infer_datetime_format=True, parse_dates=True)\n",
    "usdc_df.sort_index(inplace=True)\n",
    "\n",
    "# Display a few rows\n",
    "usdc_df.head()"
   ]
  },
  {
   "cell_type": "code",
   "execution_count": 3,
   "id": "3118bbe5-a727-4cdb-a47b-e9ecfd7a5717",
   "metadata": {},
   "outputs": [
    {
     "data": {
      "text/plain": [
       "SNo            int64\n",
       "Name          object\n",
       "Symbol        object\n",
       "High         float64\n",
       "Low          float64\n",
       "Open         float64\n",
       "Close        float64\n",
       "Volume       float64\n",
       "Marketcap    float64\n",
       "dtype: object"
      ]
     },
     "execution_count": 3,
     "metadata": {},
     "output_type": "execute_result"
    }
   ],
   "source": [
    "# Check data types\n",
    "xrp_df.dtypes\n",
    "sol_df.dtypes\n",
    "doge_df.dtypes\n",
    "eth_df.dtypes\n",
    "bit_df.dtypes\n",
    "ada_df.dtypes\n",
    "cro_df.dtypes\n",
    "ltc_df.dtypes\n",
    "uni_df.dtypes\n",
    "usdc_df.dtypes"
   ]
  },
  {
   "cell_type": "code",
   "execution_count": 4,
   "id": "3a0a1091-d636-49f6-a451-351ba5a81e72",
   "metadata": {},
   "outputs": [],
   "source": [
    "# Rename \"Close\" column to be specific to this portoflio & visualize dataframe\n",
    "xrp_df = xrp_df.rename(columns={\"Close\":\"XRP\"})\n",
    "sol_df = sol_df.rename(columns={\"Close\":\"SOL\"})\n",
    "doge_df = doge_df.rename(columns={\"Close\":\"DOGE\"})\n",
    "eth_df = eth_df.rename(columns={\"Close\":\"ETH\"})\n",
    "bit_df = bit_df.rename(columns={\"Close\":\"BIT\"})\n",
    "\n",
    "ada_df = ada_df.rename(columns={\"Close\":\"ADA\"})\n",
    "cro_df = cro_df.rename(columns={\"Close\":\"CRO\"})\n",
    "ltc_df = ltc_df.rename(columns={\"Close\":\"LTC\"})\n",
    "uni_df = uni_df.rename(columns={\"Close\":\"UNI\"})\n",
    "usdc_df = usdc_df.rename(columns={\"Close\":\"USDC\"})\n"
   ]
  },
  {
   "cell_type": "code",
   "execution_count": 5,
   "id": "9e4b6fc6-cfb9-4b33-93fa-88a745980994",
   "metadata": {},
   "outputs": [
    {
     "data": {
      "text/html": [
       "<div>\n",
       "<style scoped>\n",
       "    .dataframe tbody tr th:only-of-type {\n",
       "        vertical-align: middle;\n",
       "    }\n",
       "\n",
       "    .dataframe tbody tr th {\n",
       "        vertical-align: top;\n",
       "    }\n",
       "\n",
       "    .dataframe thead th {\n",
       "        text-align: right;\n",
       "    }\n",
       "</style>\n",
       "<table border=\"1\" class=\"dataframe\">\n",
       "  <thead>\n",
       "    <tr style=\"text-align: right;\">\n",
       "      <th></th>\n",
       "      <th>SNo</th>\n",
       "      <th>Name</th>\n",
       "      <th>Symbol</th>\n",
       "      <th>High</th>\n",
       "      <th>Low</th>\n",
       "      <th>Open</th>\n",
       "      <th>XRP</th>\n",
       "      <th>Volume</th>\n",
       "      <th>Marketcap</th>\n",
       "      <th>SNo</th>\n",
       "      <th>...</th>\n",
       "      <th>Marketcap</th>\n",
       "      <th>SNo</th>\n",
       "      <th>Name</th>\n",
       "      <th>Symbol</th>\n",
       "      <th>High</th>\n",
       "      <th>Low</th>\n",
       "      <th>Open</th>\n",
       "      <th>USDC</th>\n",
       "      <th>Volume</th>\n",
       "      <th>Marketcap</th>\n",
       "    </tr>\n",
       "    <tr>\n",
       "      <th>Date</th>\n",
       "      <th></th>\n",
       "      <th></th>\n",
       "      <th></th>\n",
       "      <th></th>\n",
       "      <th></th>\n",
       "      <th></th>\n",
       "      <th></th>\n",
       "      <th></th>\n",
       "      <th></th>\n",
       "      <th></th>\n",
       "      <th></th>\n",
       "      <th></th>\n",
       "      <th></th>\n",
       "      <th></th>\n",
       "      <th></th>\n",
       "      <th></th>\n",
       "      <th></th>\n",
       "      <th></th>\n",
       "      <th></th>\n",
       "      <th></th>\n",
       "      <th></th>\n",
       "    </tr>\n",
       "  </thead>\n",
       "  <tbody>\n",
       "    <tr>\n",
       "      <th>2020-09-18 23:59:59</th>\n",
       "      <td>2602</td>\n",
       "      <td>XRP</td>\n",
       "      <td>XRP</td>\n",
       "      <td>0.255716</td>\n",
       "      <td>0.247091</td>\n",
       "      <td>0.252284</td>\n",
       "      <td>0.250707</td>\n",
       "      <td>1.282350e+09</td>\n",
       "      <td>1.129243e+10</td>\n",
       "      <td>161</td>\n",
       "      <td>...</td>\n",
       "      <td>6.681116e+08</td>\n",
       "      <td>711</td>\n",
       "      <td>USD Coin</td>\n",
       "      <td>USDC</td>\n",
       "      <td>1.041002</td>\n",
       "      <td>0.988464</td>\n",
       "      <td>1.000356</td>\n",
       "      <td>0.999641</td>\n",
       "      <td>4.422483e+08</td>\n",
       "      <td>2.174402e+09</td>\n",
       "    </tr>\n",
       "    <tr>\n",
       "      <th>2020-09-19 23:59:59</th>\n",
       "      <td>2603</td>\n",
       "      <td>XRP</td>\n",
       "      <td>XRP</td>\n",
       "      <td>0.254101</td>\n",
       "      <td>0.248359</td>\n",
       "      <td>0.250530</td>\n",
       "      <td>0.251716</td>\n",
       "      <td>1.043485e+09</td>\n",
       "      <td>1.133788e+10</td>\n",
       "      <td>162</td>\n",
       "      <td>...</td>\n",
       "      <td>5.545076e+08</td>\n",
       "      <td>712</td>\n",
       "      <td>USD Coin</td>\n",
       "      <td>USDC</td>\n",
       "      <td>1.003806</td>\n",
       "      <td>0.997430</td>\n",
       "      <td>0.998770</td>\n",
       "      <td>1.001400</td>\n",
       "      <td>3.727863e+08</td>\n",
       "      <td>2.283061e+09</td>\n",
       "    </tr>\n",
       "    <tr>\n",
       "      <th>2020-09-20 23:59:59</th>\n",
       "      <td>2604</td>\n",
       "      <td>XRP</td>\n",
       "      <td>XRP</td>\n",
       "      <td>0.251663</td>\n",
       "      <td>0.243716</td>\n",
       "      <td>0.251663</td>\n",
       "      <td>0.246743</td>\n",
       "      <td>1.091284e+09</td>\n",
       "      <td>1.111390e+10</td>\n",
       "      <td>163</td>\n",
       "      <td>...</td>\n",
       "      <td>5.079857e+08</td>\n",
       "      <td>713</td>\n",
       "      <td>USD Coin</td>\n",
       "      <td>USDC</td>\n",
       "      <td>1.003537</td>\n",
       "      <td>0.999424</td>\n",
       "      <td>1.001564</td>\n",
       "      <td>1.001182</td>\n",
       "      <td>3.804176e+08</td>\n",
       "      <td>2.322713e+09</td>\n",
       "    </tr>\n",
       "    <tr>\n",
       "      <th>2020-09-21 23:59:59</th>\n",
       "      <td>2605</td>\n",
       "      <td>XRP</td>\n",
       "      <td>XRP</td>\n",
       "      <td>0.248110</td>\n",
       "      <td>0.230479</td>\n",
       "      <td>0.246818</td>\n",
       "      <td>0.232138</td>\n",
       "      <td>1.718958e+09</td>\n",
       "      <td>1.046879e+10</td>\n",
       "      <td>164</td>\n",
       "      <td>...</td>\n",
       "      <td>4.132392e+08</td>\n",
       "      <td>714</td>\n",
       "      <td>USD Coin</td>\n",
       "      <td>USDC</td>\n",
       "      <td>1.006842</td>\n",
       "      <td>0.999689</td>\n",
       "      <td>1.001177</td>\n",
       "      <td>1.001843</td>\n",
       "      <td>4.522036e+08</td>\n",
       "      <td>2.392455e+09</td>\n",
       "    </tr>\n",
       "    <tr>\n",
       "      <th>2020-09-22 23:59:59</th>\n",
       "      <td>2606</td>\n",
       "      <td>XRP</td>\n",
       "      <td>XRP</td>\n",
       "      <td>0.234743</td>\n",
       "      <td>0.230237</td>\n",
       "      <td>0.231848</td>\n",
       "      <td>0.233417</td>\n",
       "      <td>1.019584e+09</td>\n",
       "      <td>1.052649e+10</td>\n",
       "      <td>165</td>\n",
       "      <td>...</td>\n",
       "      <td>3.782762e+08</td>\n",
       "      <td>715</td>\n",
       "      <td>USD Coin</td>\n",
       "      <td>USDC</td>\n",
       "      <td>1.002476</td>\n",
       "      <td>0.999342</td>\n",
       "      <td>1.001931</td>\n",
       "      <td>1.000260</td>\n",
       "      <td>3.435525e+08</td>\n",
       "      <td>2.391425e+09</td>\n",
       "    </tr>\n",
       "  </tbody>\n",
       "</table>\n",
       "<p>5 rows × 90 columns</p>\n",
       "</div>"
      ],
      "text/plain": [
       "                      SNo  Name  Symbol      High       Low      Open  \\\n",
       "Date                                                                    \n",
       "2020-09-18 23:59:59  2602   XRP     XRP  0.255716  0.247091  0.252284   \n",
       "2020-09-19 23:59:59  2603   XRP     XRP  0.254101  0.248359  0.250530   \n",
       "2020-09-20 23:59:59  2604   XRP     XRP  0.251663  0.243716  0.251663   \n",
       "2020-09-21 23:59:59  2605   XRP     XRP  0.248110  0.230479  0.246818   \n",
       "2020-09-22 23:59:59  2606   XRP     XRP  0.234743  0.230237  0.231848   \n",
       "\n",
       "                          XRP        Volume     Marketcap  SNo  ...  \\\n",
       "Date                                                            ...   \n",
       "2020-09-18 23:59:59  0.250707  1.282350e+09  1.129243e+10  161  ...   \n",
       "2020-09-19 23:59:59  0.251716  1.043485e+09  1.133788e+10  162  ...   \n",
       "2020-09-20 23:59:59  0.246743  1.091284e+09  1.111390e+10  163  ...   \n",
       "2020-09-21 23:59:59  0.232138  1.718958e+09  1.046879e+10  164  ...   \n",
       "2020-09-22 23:59:59  0.233417  1.019584e+09  1.052649e+10  165  ...   \n",
       "\n",
       "                        Marketcap  SNo      Name  Symbol      High       Low  \\\n",
       "Date                                                                           \n",
       "2020-09-18 23:59:59  6.681116e+08  711  USD Coin    USDC  1.041002  0.988464   \n",
       "2020-09-19 23:59:59  5.545076e+08  712  USD Coin    USDC  1.003806  0.997430   \n",
       "2020-09-20 23:59:59  5.079857e+08  713  USD Coin    USDC  1.003537  0.999424   \n",
       "2020-09-21 23:59:59  4.132392e+08  714  USD Coin    USDC  1.006842  0.999689   \n",
       "2020-09-22 23:59:59  3.782762e+08  715  USD Coin    USDC  1.002476  0.999342   \n",
       "\n",
       "                         Open      USDC        Volume     Marketcap  \n",
       "Date                                                                 \n",
       "2020-09-18 23:59:59  1.000356  0.999641  4.422483e+08  2.174402e+09  \n",
       "2020-09-19 23:59:59  0.998770  1.001400  3.727863e+08  2.283061e+09  \n",
       "2020-09-20 23:59:59  1.001564  1.001182  3.804176e+08  2.322713e+09  \n",
       "2020-09-21 23:59:59  1.001177  1.001843  4.522036e+08  2.392455e+09  \n",
       "2020-09-22 23:59:59  1.001931  1.000260  3.435525e+08  2.391425e+09  \n",
       "\n",
       "[5 rows x 90 columns]"
      ]
     },
     "execution_count": 5,
     "metadata": {},
     "output_type": "execute_result"
    }
   ],
   "source": [
    "# Concat dataframes into one dataframe\n",
    "all_crypto = pd.concat([xrp_df, sol_df, doge_df, eth_df, bit_df, ada_df, cro_df, ltc_df, uni_df, usdc_df], \n",
    "                      axis=\"columns\", join=\"inner\")\n",
    "all_crypto.dropna()\n",
    "all_crypto.head()"
   ]
  },
  {
   "cell_type": "code",
   "execution_count": 6,
   "id": "ddfb3855-a896-4249-b26d-dbbcf3263811",
   "metadata": {},
   "outputs": [
    {
     "data": {
      "text/plain": [
       "Index(['XRP', 'SOL', 'DOGE', 'ETH', 'BIT', 'ADA', 'CRO', 'LTC', 'UNI', 'USDC'], dtype='object')"
      ]
     },
     "execution_count": 6,
     "metadata": {},
     "output_type": "execute_result"
    }
   ],
   "source": [
    "# Drop columns\n",
    "all_crypto.drop(columns=[\"Symbol\", \"SNo\",\"Name\", \"High\", \"Low\", \"Open\", \"Volume\", \"Marketcap\"], inplace=True)\n",
    "all_crypto.columns"
   ]
  },
  {
   "cell_type": "code",
   "execution_count": 7,
   "id": "e6cf1fb0-005d-4497-aa65-a41c086cba25",
   "metadata": {},
   "outputs": [
    {
     "data": {
      "text/html": [
       "<div>\n",
       "<style scoped>\n",
       "    .dataframe tbody tr th:only-of-type {\n",
       "        vertical-align: middle;\n",
       "    }\n",
       "\n",
       "    .dataframe tbody tr th {\n",
       "        vertical-align: top;\n",
       "    }\n",
       "\n",
       "    .dataframe thead th {\n",
       "        text-align: right;\n",
       "    }\n",
       "</style>\n",
       "<table border=\"1\" class=\"dataframe\">\n",
       "  <thead>\n",
       "    <tr style=\"text-align: right;\">\n",
       "      <th></th>\n",
       "      <th>XRP</th>\n",
       "      <th>SOL</th>\n",
       "      <th>DOGE</th>\n",
       "      <th>ETH</th>\n",
       "      <th>BIT</th>\n",
       "      <th>ADA</th>\n",
       "      <th>CRO</th>\n",
       "      <th>LTC</th>\n",
       "      <th>UNI</th>\n",
       "      <th>USDC</th>\n",
       "    </tr>\n",
       "    <tr>\n",
       "      <th>Date</th>\n",
       "      <th></th>\n",
       "      <th></th>\n",
       "      <th></th>\n",
       "      <th></th>\n",
       "      <th></th>\n",
       "      <th></th>\n",
       "      <th></th>\n",
       "      <th></th>\n",
       "      <th></th>\n",
       "      <th></th>\n",
       "    </tr>\n",
       "  </thead>\n",
       "  <tbody>\n",
       "    <tr>\n",
       "      <th>2020-09-18 23:59:59</th>\n",
       "      <td>0.250707</td>\n",
       "      <td>3.107940</td>\n",
       "      <td>0.002804</td>\n",
       "      <td>384.364542</td>\n",
       "      <td>10944.585805</td>\n",
       "      <td>0.091081</td>\n",
       "      <td>0.166270</td>\n",
       "      <td>48.462816</td>\n",
       "      <td>6.897257</td>\n",
       "      <td>0.999641</td>\n",
       "    </tr>\n",
       "    <tr>\n",
       "      <th>2020-09-19 23:59:59</th>\n",
       "      <td>0.251716</td>\n",
       "      <td>3.028891</td>\n",
       "      <td>0.002794</td>\n",
       "      <td>385.544384</td>\n",
       "      <td>11094.346276</td>\n",
       "      <td>0.091657</td>\n",
       "      <td>0.167822</td>\n",
       "      <td>48.676832</td>\n",
       "      <td>5.724464</td>\n",
       "      <td>1.001400</td>\n",
       "    </tr>\n",
       "    <tr>\n",
       "      <th>2020-09-20 23:59:59</th>\n",
       "      <td>0.246743</td>\n",
       "      <td>2.870903</td>\n",
       "      <td>0.002778</td>\n",
       "      <td>371.052826</td>\n",
       "      <td>10938.271289</td>\n",
       "      <td>0.089433</td>\n",
       "      <td>0.159568</td>\n",
       "      <td>47.100530</td>\n",
       "      <td>5.244195</td>\n",
       "      <td>1.001182</td>\n",
       "    </tr>\n",
       "    <tr>\n",
       "      <th>2020-09-21 23:59:59</th>\n",
       "      <td>0.232138</td>\n",
       "      <td>2.782509</td>\n",
       "      <td>0.002630</td>\n",
       "      <td>341.786074</td>\n",
       "      <td>10462.259619</td>\n",
       "      <td>0.080428</td>\n",
       "      <td>0.152256</td>\n",
       "      <td>43.390220</td>\n",
       "      <td>4.266079</td>\n",
       "      <td>1.001843</td>\n",
       "    </tr>\n",
       "    <tr>\n",
       "      <th>2020-09-22 23:59:59</th>\n",
       "      <td>0.233417</td>\n",
       "      <td>2.915519</td>\n",
       "      <td>0.002656</td>\n",
       "      <td>344.503162</td>\n",
       "      <td>10538.460321</td>\n",
       "      <td>0.081754</td>\n",
       "      <td>0.152646</td>\n",
       "      <td>44.545049</td>\n",
       "      <td>3.905138</td>\n",
       "      <td>1.000260</td>\n",
       "    </tr>\n",
       "  </tbody>\n",
       "</table>\n",
       "</div>"
      ],
      "text/plain": [
       "                          XRP       SOL      DOGE         ETH           BIT  \\\n",
       "Date                                                                          \n",
       "2020-09-18 23:59:59  0.250707  3.107940  0.002804  384.364542  10944.585805   \n",
       "2020-09-19 23:59:59  0.251716  3.028891  0.002794  385.544384  11094.346276   \n",
       "2020-09-20 23:59:59  0.246743  2.870903  0.002778  371.052826  10938.271289   \n",
       "2020-09-21 23:59:59  0.232138  2.782509  0.002630  341.786074  10462.259619   \n",
       "2020-09-22 23:59:59  0.233417  2.915519  0.002656  344.503162  10538.460321   \n",
       "\n",
       "                          ADA       CRO        LTC       UNI      USDC  \n",
       "Date                                                                    \n",
       "2020-09-18 23:59:59  0.091081  0.166270  48.462816  6.897257  0.999641  \n",
       "2020-09-19 23:59:59  0.091657  0.167822  48.676832  5.724464  1.001400  \n",
       "2020-09-20 23:59:59  0.089433  0.159568  47.100530  5.244195  1.001182  \n",
       "2020-09-21 23:59:59  0.080428  0.152256  43.390220  4.266079  1.001843  \n",
       "2020-09-22 23:59:59  0.081754  0.152646  44.545049  3.905138  1.000260  "
      ]
     },
     "execution_count": 7,
     "metadata": {},
     "output_type": "execute_result"
    }
   ],
   "source": [
    "# Visulaze Dataframe\n",
    "all_crypto.head()"
   ]
  },
  {
   "cell_type": "code",
   "execution_count": 8,
   "id": "2a728e69-3328-4b00-834f-c4e4ba6c90b8",
   "metadata": {},
   "outputs": [
    {
     "data": {
      "text/plain": [
       "<matplotlib.axes._subplots.AxesSubplot at 0x1de3b049bb0>"
      ]
     },
     "execution_count": 8,
     "metadata": {},
     "output_type": "execute_result"
    },
    {
     "data": {
      "image/png": "[encoded data removed]",
      "text/plain": [
       "<Figure size 1224x792 with 1 Axes>"
      ]
     },
     "metadata": {
      "needs_background": "light"
     },
     "output_type": "display_data"
    }
   ],
   "source": [
    "#Plot data\n",
    "all_crypto.plot(figsize=(17,11))"
   ]
  },
  {
   "cell_type": "code",
   "execution_count": 9,
   "id": "1c6da6fa-8dbb-4c61-adf0-8a361b150528",
   "metadata": {},
   "outputs": [
    {
     "data": {
      "text/html": [
       "<div>\n",
       "<style scoped>\n",
       "    .dataframe tbody tr th:only-of-type {\n",
       "        vertical-align: middle;\n",
       "    }\n",
       "\n",
       "    .dataframe tbody tr th {\n",
       "        vertical-align: top;\n",
       "    }\n",
       "\n",
       "    .dataframe thead th {\n",
       "        text-align: right;\n",
       "    }\n",
       "</style>\n",
       "<table border=\"1\" class=\"dataframe\">\n",
       "  <thead>\n",
       "    <tr style=\"text-align: right;\">\n",
       "      <th></th>\n",
       "      <th>XRP</th>\n",
       "      <th>SOL</th>\n",
       "      <th>DOGE</th>\n",
       "      <th>ETH</th>\n",
       "      <th>BIT</th>\n",
       "      <th>ADA</th>\n",
       "      <th>CRO</th>\n",
       "      <th>LTC</th>\n",
       "      <th>UNI</th>\n",
       "      <th>USDC</th>\n",
       "    </tr>\n",
       "    <tr>\n",
       "      <th>Date</th>\n",
       "      <th></th>\n",
       "      <th></th>\n",
       "      <th></th>\n",
       "      <th></th>\n",
       "      <th></th>\n",
       "      <th></th>\n",
       "      <th></th>\n",
       "      <th></th>\n",
       "      <th></th>\n",
       "      <th></th>\n",
       "    </tr>\n",
       "  </thead>\n",
       "  <tbody>\n",
       "    <tr>\n",
       "      <th>2020-09-18 23:59:59</th>\n",
       "      <td>NaN</td>\n",
       "      <td>NaN</td>\n",
       "      <td>NaN</td>\n",
       "      <td>NaN</td>\n",
       "      <td>NaN</td>\n",
       "      <td>NaN</td>\n",
       "      <td>NaN</td>\n",
       "      <td>NaN</td>\n",
       "      <td>NaN</td>\n",
       "      <td>NaN</td>\n",
       "    </tr>\n",
       "    <tr>\n",
       "      <th>2020-09-19 23:59:59</th>\n",
       "      <td>0.004025</td>\n",
       "      <td>-0.025434</td>\n",
       "      <td>-0.003731</td>\n",
       "      <td>0.003070</td>\n",
       "      <td>0.013684</td>\n",
       "      <td>0.006322</td>\n",
       "      <td>0.009333</td>\n",
       "      <td>0.004416</td>\n",
       "      <td>-0.170038</td>\n",
       "      <td>0.001759</td>\n",
       "    </tr>\n",
       "    <tr>\n",
       "      <th>2020-09-20 23:59:59</th>\n",
       "      <td>-0.019755</td>\n",
       "      <td>-0.052160</td>\n",
       "      <td>-0.005637</td>\n",
       "      <td>-0.037587</td>\n",
       "      <td>-0.014068</td>\n",
       "      <td>-0.024265</td>\n",
       "      <td>-0.049182</td>\n",
       "      <td>-0.032383</td>\n",
       "      <td>-0.083898</td>\n",
       "      <td>-0.000218</td>\n",
       "    </tr>\n",
       "    <tr>\n",
       "      <th>2020-09-21 23:59:59</th>\n",
       "      <td>-0.059194</td>\n",
       "      <td>-0.030790</td>\n",
       "      <td>-0.053150</td>\n",
       "      <td>-0.078875</td>\n",
       "      <td>-0.043518</td>\n",
       "      <td>-0.100691</td>\n",
       "      <td>-0.045826</td>\n",
       "      <td>-0.078774</td>\n",
       "      <td>-0.186514</td>\n",
       "      <td>0.000661</td>\n",
       "    </tr>\n",
       "    <tr>\n",
       "      <th>2020-09-22 23:59:59</th>\n",
       "      <td>0.005511</td>\n",
       "      <td>0.047802</td>\n",
       "      <td>0.009770</td>\n",
       "      <td>0.007950</td>\n",
       "      <td>0.007283</td>\n",
       "      <td>0.016490</td>\n",
       "      <td>0.002565</td>\n",
       "      <td>0.026615</td>\n",
       "      <td>-0.084607</td>\n",
       "      <td>-0.001581</td>\n",
       "    </tr>\n",
       "  </tbody>\n",
       "</table>\n",
       "</div>"
      ],
      "text/plain": [
       "                          XRP       SOL      DOGE       ETH       BIT  \\\n",
       "Date                                                                    \n",
       "2020-09-18 23:59:59       NaN       NaN       NaN       NaN       NaN   \n",
       "2020-09-19 23:59:59  0.004025 -0.025434 -0.003731  0.003070  0.013684   \n",
       "2020-09-20 23:59:59 -0.019755 -0.052160 -0.005637 -0.037587 -0.014068   \n",
       "2020-09-21 23:59:59 -0.059194 -0.030790 -0.053150 -0.078875 -0.043518   \n",
       "2020-09-22 23:59:59  0.005511  0.047802  0.009770  0.007950  0.007283   \n",
       "\n",
       "                          ADA       CRO       LTC       UNI      USDC  \n",
       "Date                                                                   \n",
       "2020-09-18 23:59:59       NaN       NaN       NaN       NaN       NaN  \n",
       "2020-09-19 23:59:59  0.006322  0.009333  0.004416 -0.170038  0.001759  \n",
       "2020-09-20 23:59:59 -0.024265 -0.049182 -0.032383 -0.083898 -0.000218  \n",
       "2020-09-21 23:59:59 -0.100691 -0.045826 -0.078774 -0.186514  0.000661  \n",
       "2020-09-22 23:59:59  0.016490  0.002565  0.026615 -0.084607 -0.001581  "
      ]
     },
     "execution_count": 9,
     "metadata": {},
     "output_type": "execute_result"
    }
   ],
   "source": [
    "# Calculate daily return with pct_change function\n",
    "crypto_returns = all_crypto.pct_change()\n",
    "crypto_returns.head()"
   ]
  },
  {
   "cell_type": "code",
   "execution_count": 10,
   "id": "e0139a82-0e29-4a6f-8404-d981b922346a",
   "metadata": {},
   "outputs": [
    {
     "data": {
      "text/plain": [
       "USDC    0.015920\n",
       "BIT     0.682511\n",
       "ETH     0.925537\n",
       "LTC     1.037552\n",
       "CRO     1.132215\n",
       "ADA     1.176042\n",
       "UNI     1.449326\n",
       "SOL     1.479598\n",
       "XRP     1.547933\n",
       "DOGE    3.882266\n",
       "dtype: float64"
      ]
     },
     "execution_count": 10,
     "metadata": {},
     "output_type": "execute_result"
    }
   ],
   "source": [
    "# Imply standard deviation function and multiply by the square root of the number of trading days in a year to get annualized volatility\n",
    "volatility = crypto_returns.std() * np.sqrt(252)\n",
    "volatility.sort_values(inplace=True)\n",
    "volatility"
   ]
  },
  {
   "cell_type": "code",
   "execution_count": 11,
   "id": "f8284691-3e7a-411f-a60d-a0114f27076c",
   "metadata": {},
   "outputs": [
    {
     "data": {
      "text/html": [
       "<div>\n",
       "<style scoped>\n",
       "    .dataframe tbody tr th:only-of-type {\n",
       "        vertical-align: middle;\n",
       "    }\n",
       "\n",
       "    .dataframe tbody tr th {\n",
       "        vertical-align: top;\n",
       "    }\n",
       "\n",
       "    .dataframe thead th {\n",
       "        text-align: right;\n",
       "    }\n",
       "</style>\n",
       "<table border=\"1\" class=\"dataframe\">\n",
       "  <thead>\n",
       "    <tr style=\"text-align: right;\">\n",
       "      <th></th>\n",
       "      <th>ETH</th>\n",
       "      <th>BIT</th>\n",
       "      <th>CRO</th>\n",
       "      <th>LTC</th>\n",
       "      <th>USDC</th>\n",
       "    </tr>\n",
       "    <tr>\n",
       "      <th>Date</th>\n",
       "      <th></th>\n",
       "      <th></th>\n",
       "      <th></th>\n",
       "      <th></th>\n",
       "      <th></th>\n",
       "    </tr>\n",
       "  </thead>\n",
       "  <tbody>\n",
       "    <tr>\n",
       "      <th>2020-09-18 23:59:59</th>\n",
       "      <td>NaN</td>\n",
       "      <td>NaN</td>\n",
       "      <td>NaN</td>\n",
       "      <td>NaN</td>\n",
       "      <td>NaN</td>\n",
       "    </tr>\n",
       "    <tr>\n",
       "      <th>2020-09-19 23:59:59</th>\n",
       "      <td>0.003070</td>\n",
       "      <td>0.013684</td>\n",
       "      <td>0.009333</td>\n",
       "      <td>0.004416</td>\n",
       "      <td>0.001759</td>\n",
       "    </tr>\n",
       "    <tr>\n",
       "      <th>2020-09-20 23:59:59</th>\n",
       "      <td>-0.037587</td>\n",
       "      <td>-0.014068</td>\n",
       "      <td>-0.049182</td>\n",
       "      <td>-0.032383</td>\n",
       "      <td>-0.000218</td>\n",
       "    </tr>\n",
       "    <tr>\n",
       "      <th>2020-09-21 23:59:59</th>\n",
       "      <td>-0.078875</td>\n",
       "      <td>-0.043518</td>\n",
       "      <td>-0.045826</td>\n",
       "      <td>-0.078774</td>\n",
       "      <td>0.000661</td>\n",
       "    </tr>\n",
       "    <tr>\n",
       "      <th>2020-09-22 23:59:59</th>\n",
       "      <td>0.007950</td>\n",
       "      <td>0.007283</td>\n",
       "      <td>0.002565</td>\n",
       "      <td>0.026615</td>\n",
       "      <td>-0.001581</td>\n",
       "    </tr>\n",
       "  </tbody>\n",
       "</table>\n",
       "</div>"
      ],
      "text/plain": [
       "                          ETH       BIT       CRO       LTC      USDC\n",
       "Date                                                                 \n",
       "2020-09-18 23:59:59       NaN       NaN       NaN       NaN       NaN\n",
       "2020-09-19 23:59:59  0.003070  0.013684  0.009333  0.004416  0.001759\n",
       "2020-09-20 23:59:59 -0.037587 -0.014068 -0.049182 -0.032383 -0.000218\n",
       "2020-09-21 23:59:59 -0.078875 -0.043518 -0.045826 -0.078774  0.000661\n",
       "2020-09-22 23:59:59  0.007950  0.007283  0.002565  0.026615 -0.001581"
      ]
     },
     "execution_count": 11,
     "metadata": {},
     "output_type": "execute_result"
    }
   ],
   "source": [
    "# Drop the five stocks with the highest volatility in daily returns\n",
    "crypto_returns.drop(columns=[\"DOGE\", \"XRP\", \"SOL\", \"UNI\", \"ADA\"], inplace=True)\n",
    "crypto_returns.head()"
   ]
  },
  {
   "cell_type": "code",
   "execution_count": 12,
   "id": "86d6be4f-f594-474d-b3a0-601eb5f07535",
   "metadata": {},
   "outputs": [
    {
     "data": {
      "text/plain": [
       "Date\n",
       "2020-09-18 23:59:59         NaN\n",
       "2020-09-19 23:59:59    0.005837\n",
       "2020-09-20 23:59:59   -0.031227\n",
       "2020-09-21 23:59:59   -0.055122\n",
       "2020-09-22 23:59:59    0.009774\n",
       "Freq: D, dtype: float64"
      ]
     },
     "execution_count": 12,
     "metadata": {},
     "output_type": "execute_result"
    }
   ],
   "source": [
    "# Set weights for corresponding risk profile of stocks, use the `dot` function to multiply each weight by the corresponding stock daily return\n",
    "#ETH, BIT, CRO, LTC, USDC\n",
    "weights = [0.25, 0.10, 0.25, 0.25, 0.15]\n",
    "crypto_gains = crypto_returns.dot(weights)\n",
    "crypto_gains.head()"
   ]
  },
  {
   "cell_type": "code",
   "execution_count": 13,
   "id": "539da057-2ce7-4234-ba1c-20b7a2140c1e",
   "metadata": {},
   "outputs": [
    {
     "data": {
      "text/plain": [
       "Date\n",
       "2020-09-18 23:59:59         NaN\n",
       "2020-09-19 23:59:59    1.005837\n",
       "2020-09-20 23:59:59    0.974427\n",
       "2020-09-21 23:59:59    0.920715\n",
       "2020-09-22 23:59:59    0.929714\n",
       "Freq: D, dtype: float64"
      ]
     },
     "execution_count": 13,
     "metadata": {},
     "output_type": "execute_result"
    }
   ],
   "source": [
    "# Imply `cumprod` function to calculate cumulative returns\n",
    "cumulative_returns = (1 + crypto_gains).cumprod()\n",
    "cumulative_returns.head()"
   ]
  },
  {
   "cell_type": "code",
   "execution_count": 14,
   "id": "03caf252-b194-4f49-97f2-31b181720057",
   "metadata": {},
   "outputs": [
    {
     "data": {
      "text/plain": [
       "<matplotlib.axes._subplots.AxesSubplot at 0x1de3b1ef040>"
      ]
     },
     "execution_count": 14,
     "metadata": {},
     "output_type": "execute_result"
    },
    {
     "data": {
      "image/png": "[encoded data removed]",
      "text/plain": [
       "<Figure size 1584x864 with 1 Axes>"
      ]
     },
     "metadata": {
      "needs_background": "light"
     },
     "output_type": "display_data"
    }
   ],
   "source": [
    "# Plot return with initial invstment of $10000\n",
    "initial_investment = 10000\n",
    "cumulative_profits = initial_investment * cumulative_returns\n",
    "cumulative_profits.plot(figsize=(22,12))"
   ]
  },
  {
   "cell_type": "code",
   "execution_count": 15,
   "id": "765e70d7-f08b-4c65-bd4c-23ef9c9f763f",
   "metadata": {},
   "outputs": [
    {
     "data": {
      "text/plain": [
       "XRP         0.402068\n",
       "SOL        15.461236\n",
       "DOGE        0.159180\n",
       "ETH       946.502150\n",
       "BIT     16544.673749\n",
       "dtype: float64"
      ]
     },
     "execution_count": 15,
     "metadata": {},
     "output_type": "execute_result"
    }
   ],
   "source": [
    "# Apply std function\n",
    "all_crypto_std = all_crypto.std()\n",
    "all_crypto_std.head()"
   ]
  },
  {
   "cell_type": "code",
   "execution_count": 16,
   "id": "8ab76182-86ed-4084-b2ea-f297a3d73cee",
   "metadata": {},
   "outputs": [
    {
     "data": {
      "text/plain": [
       "0.045511260824823034"
      ]
     },
     "execution_count": 16,
     "metadata": {},
     "output_type": "execute_result"
    }
   ],
   "source": [
    "crypto_gains_std = crypto_gains.std()\n",
    "crypto_gains_std"
   ]
  },
  {
   "cell_type": "code",
   "execution_count": 17,
   "id": "1c98cca6-eb44-4254-ab3e-a87aaec625f7",
   "metadata": {},
   "outputs": [
    {
     "data": {
      "text/plain": [
       "XRP      0.168265\n",
       "SOL      0.004376\n",
       "DOGE     0.425017\n",
       "ETH      0.000071\n",
       "BIT      0.000004\n",
       "ADA      0.109996\n",
       "CRO      1.271734\n",
       "LTC      0.000868\n",
       "UNI      0.005295\n",
       "USDC    83.850261\n",
       "dtype: float64"
      ]
     },
     "execution_count": 17,
     "metadata": {},
     "output_type": "execute_result"
    }
   ],
   "source": [
    "sharpe_ratio = (crypto_gains.mean() * 252) / (all_crypto_std * np.sqrt(252))\n",
    "sharpe_ratio"
   ]
  },
  {
   "cell_type": "code",
   "execution_count": 18,
   "id": "e68c6a52-c101-4f32-bdbb-e41c195e663a",
   "metadata": {},
   "outputs": [
    {
     "data": {
      "text/plain": [
       "<matplotlib.axes._subplots.AxesSubplot at 0x1de3b5ca250>"
      ]
     },
     "execution_count": 18,
     "metadata": {},
     "output_type": "execute_result"
    },
    {
     "data": {
      "image/png": "[encoded data removed]",
      "text/plain": [
       "<Figure size 1584x792 with 1 Axes>"
      ]
     },
     "metadata": {
      "needs_background": "light"
     },
     "output_type": "display_data"
    }
   ],
   "source": [
    "# Plot sharpe ratio\n",
    "sharpe_ratio.plot(kind=\"bar\", title=\"Sharpe Ratio\", figsize=(22,11))"
   ]
  },
  {
   "cell_type": "markdown",
   "id": "f2e39402-c9b7-46e1-967b-7bfaf7d107e7",
   "metadata": {},
   "source": [
    "## Reset Daily Returns Dataframe"
   ]
  },
  {
   "cell_type": "code",
   "execution_count": 19,
   "id": "b550484a-c1ea-4a58-a81d-6994c65b583c",
   "metadata": {},
   "outputs": [
    {
     "data": {
      "text/html": [
       "<div>\n",
       "<style scoped>\n",
       "    .dataframe tbody tr th:only-of-type {\n",
       "        vertical-align: middle;\n",
       "    }\n",
       "\n",
       "    .dataframe tbody tr th {\n",
       "        vertical-align: top;\n",
       "    }\n",
       "\n",
       "    .dataframe thead th {\n",
       "        text-align: right;\n",
       "    }\n",
       "</style>\n",
       "<table border=\"1\" class=\"dataframe\">\n",
       "  <thead>\n",
       "    <tr style=\"text-align: right;\">\n",
       "      <th></th>\n",
       "      <th>XRP</th>\n",
       "      <th>SOL</th>\n",
       "      <th>DOGE</th>\n",
       "      <th>ETH</th>\n",
       "      <th>BIT</th>\n",
       "      <th>ADA</th>\n",
       "      <th>CRO</th>\n",
       "      <th>LTC</th>\n",
       "      <th>UNI</th>\n",
       "      <th>USDC</th>\n",
       "    </tr>\n",
       "    <tr>\n",
       "      <th>Date</th>\n",
       "      <th></th>\n",
       "      <th></th>\n",
       "      <th></th>\n",
       "      <th></th>\n",
       "      <th></th>\n",
       "      <th></th>\n",
       "      <th></th>\n",
       "      <th></th>\n",
       "      <th></th>\n",
       "      <th></th>\n",
       "    </tr>\n",
       "  </thead>\n",
       "  <tbody>\n",
       "    <tr>\n",
       "      <th>2020-09-18 23:59:59</th>\n",
       "      <td>NaN</td>\n",
       "      <td>NaN</td>\n",
       "      <td>NaN</td>\n",
       "      <td>NaN</td>\n",
       "      <td>NaN</td>\n",
       "      <td>NaN</td>\n",
       "      <td>NaN</td>\n",
       "      <td>NaN</td>\n",
       "      <td>NaN</td>\n",
       "      <td>NaN</td>\n",
       "    </tr>\n",
       "    <tr>\n",
       "      <th>2020-09-19 23:59:59</th>\n",
       "      <td>0.004025</td>\n",
       "      <td>-0.025434</td>\n",
       "      <td>-0.003731</td>\n",
       "      <td>0.003070</td>\n",
       "      <td>0.013684</td>\n",
       "      <td>0.006322</td>\n",
       "      <td>0.009333</td>\n",
       "      <td>0.004416</td>\n",
       "      <td>-0.170038</td>\n",
       "      <td>0.001759</td>\n",
       "    </tr>\n",
       "    <tr>\n",
       "      <th>2020-09-20 23:59:59</th>\n",
       "      <td>-0.019755</td>\n",
       "      <td>-0.052160</td>\n",
       "      <td>-0.005637</td>\n",
       "      <td>-0.037587</td>\n",
       "      <td>-0.014068</td>\n",
       "      <td>-0.024265</td>\n",
       "      <td>-0.049182</td>\n",
       "      <td>-0.032383</td>\n",
       "      <td>-0.083898</td>\n",
       "      <td>-0.000218</td>\n",
       "    </tr>\n",
       "    <tr>\n",
       "      <th>2020-09-21 23:59:59</th>\n",
       "      <td>-0.059194</td>\n",
       "      <td>-0.030790</td>\n",
       "      <td>-0.053150</td>\n",
       "      <td>-0.078875</td>\n",
       "      <td>-0.043518</td>\n",
       "      <td>-0.100691</td>\n",
       "      <td>-0.045826</td>\n",
       "      <td>-0.078774</td>\n",
       "      <td>-0.186514</td>\n",
       "      <td>0.000661</td>\n",
       "    </tr>\n",
       "    <tr>\n",
       "      <th>2020-09-22 23:59:59</th>\n",
       "      <td>0.005511</td>\n",
       "      <td>0.047802</td>\n",
       "      <td>0.009770</td>\n",
       "      <td>0.007950</td>\n",
       "      <td>0.007283</td>\n",
       "      <td>0.016490</td>\n",
       "      <td>0.002565</td>\n",
       "      <td>0.026615</td>\n",
       "      <td>-0.084607</td>\n",
       "      <td>-0.001581</td>\n",
       "    </tr>\n",
       "  </tbody>\n",
       "</table>\n",
       "</div>"
      ],
      "text/plain": [
       "                          XRP       SOL      DOGE       ETH       BIT  \\\n",
       "Date                                                                    \n",
       "2020-09-18 23:59:59       NaN       NaN       NaN       NaN       NaN   \n",
       "2020-09-19 23:59:59  0.004025 -0.025434 -0.003731  0.003070  0.013684   \n",
       "2020-09-20 23:59:59 -0.019755 -0.052160 -0.005637 -0.037587 -0.014068   \n",
       "2020-09-21 23:59:59 -0.059194 -0.030790 -0.053150 -0.078875 -0.043518   \n",
       "2020-09-22 23:59:59  0.005511  0.047802  0.009770  0.007950  0.007283   \n",
       "\n",
       "                          ADA       CRO       LTC       UNI      USDC  \n",
       "Date                                                                   \n",
       "2020-09-18 23:59:59       NaN       NaN       NaN       NaN       NaN  \n",
       "2020-09-19 23:59:59  0.006322  0.009333  0.004416 -0.170038  0.001759  \n",
       "2020-09-20 23:59:59 -0.024265 -0.049182 -0.032383 -0.083898 -0.000218  \n",
       "2020-09-21 23:59:59 -0.100691 -0.045826 -0.078774 -0.186514  0.000661  \n",
       "2020-09-22 23:59:59  0.016490  0.002565  0.026615 -0.084607 -0.001581  "
      ]
     },
     "execution_count": 19,
     "metadata": {},
     "output_type": "execute_result"
    }
   ],
   "source": [
    "# Calculate daily return with pct_change function\n",
    "crypto_returns = all_crypto.pct_change()\n",
    "crypto_returns.head()"
   ]
  },
  {
   "cell_type": "code",
   "execution_count": 20,
   "id": "b55e6de8-6662-4dec-a7e0-250e29b3bef0",
   "metadata": {},
   "outputs": [
    {
     "data": {
      "text/html": [
       "<div>\n",
       "<style scoped>\n",
       "    .dataframe tbody tr th:only-of-type {\n",
       "        vertical-align: middle;\n",
       "    }\n",
       "\n",
       "    .dataframe tbody tr th {\n",
       "        vertical-align: top;\n",
       "    }\n",
       "\n",
       "    .dataframe thead th {\n",
       "        text-align: right;\n",
       "    }\n",
       "</style>\n",
       "<table border=\"1\" class=\"dataframe\">\n",
       "  <thead>\n",
       "    <tr style=\"text-align: right;\">\n",
       "      <th></th>\n",
       "      <th>XRP</th>\n",
       "      <th>SOL</th>\n",
       "      <th>DOGE</th>\n",
       "      <th>ETH</th>\n",
       "      <th>BIT</th>\n",
       "      <th>ADA</th>\n",
       "      <th>CRO</th>\n",
       "      <th>LTC</th>\n",
       "      <th>UNI</th>\n",
       "      <th>USDC</th>\n",
       "    </tr>\n",
       "  </thead>\n",
       "  <tbody>\n",
       "    <tr>\n",
       "      <th>XRP</th>\n",
       "      <td>1.000000</td>\n",
       "      <td>0.364780</td>\n",
       "      <td>0.124751</td>\n",
       "      <td>0.489068</td>\n",
       "      <td>0.448689</td>\n",
       "      <td>0.435116</td>\n",
       "      <td>0.432728</td>\n",
       "      <td>0.560076</td>\n",
       "      <td>0.378905</td>\n",
       "      <td>-0.099920</td>\n",
       "    </tr>\n",
       "    <tr>\n",
       "      <th>SOL</th>\n",
       "      <td>0.364780</td>\n",
       "      <td>1.000000</td>\n",
       "      <td>0.103556</td>\n",
       "      <td>0.499347</td>\n",
       "      <td>0.340987</td>\n",
       "      <td>0.387496</td>\n",
       "      <td>0.382813</td>\n",
       "      <td>0.395553</td>\n",
       "      <td>0.373443</td>\n",
       "      <td>-0.090600</td>\n",
       "    </tr>\n",
       "    <tr>\n",
       "      <th>DOGE</th>\n",
       "      <td>0.124751</td>\n",
       "      <td>0.103556</td>\n",
       "      <td>1.000000</td>\n",
       "      <td>0.200093</td>\n",
       "      <td>0.271011</td>\n",
       "      <td>0.193467</td>\n",
       "      <td>0.165408</td>\n",
       "      <td>0.252392</td>\n",
       "      <td>0.058113</td>\n",
       "      <td>-0.054572</td>\n",
       "    </tr>\n",
       "    <tr>\n",
       "      <th>ETH</th>\n",
       "      <td>0.489068</td>\n",
       "      <td>0.499347</td>\n",
       "      <td>0.200093</td>\n",
       "      <td>1.000000</td>\n",
       "      <td>0.726308</td>\n",
       "      <td>0.629777</td>\n",
       "      <td>0.524725</td>\n",
       "      <td>0.789283</td>\n",
       "      <td>0.596897</td>\n",
       "      <td>-0.067308</td>\n",
       "    </tr>\n",
       "    <tr>\n",
       "      <th>BIT</th>\n",
       "      <td>0.448689</td>\n",
       "      <td>0.340987</td>\n",
       "      <td>0.271011</td>\n",
       "      <td>0.726308</td>\n",
       "      <td>1.000000</td>\n",
       "      <td>0.536731</td>\n",
       "      <td>0.581834</td>\n",
       "      <td>0.757880</td>\n",
       "      <td>0.448729</td>\n",
       "      <td>-0.056161</td>\n",
       "    </tr>\n",
       "    <tr>\n",
       "      <th>ADA</th>\n",
       "      <td>0.435116</td>\n",
       "      <td>0.387496</td>\n",
       "      <td>0.193467</td>\n",
       "      <td>0.629777</td>\n",
       "      <td>0.536731</td>\n",
       "      <td>1.000000</td>\n",
       "      <td>0.489467</td>\n",
       "      <td>0.587774</td>\n",
       "      <td>0.501810</td>\n",
       "      <td>-0.024436</td>\n",
       "    </tr>\n",
       "    <tr>\n",
       "      <th>CRO</th>\n",
       "      <td>0.432728</td>\n",
       "      <td>0.382813</td>\n",
       "      <td>0.165408</td>\n",
       "      <td>0.524725</td>\n",
       "      <td>0.581834</td>\n",
       "      <td>0.489467</td>\n",
       "      <td>1.000000</td>\n",
       "      <td>0.549687</td>\n",
       "      <td>0.370527</td>\n",
       "      <td>0.021483</td>\n",
       "    </tr>\n",
       "    <tr>\n",
       "      <th>LTC</th>\n",
       "      <td>0.560076</td>\n",
       "      <td>0.395553</td>\n",
       "      <td>0.252392</td>\n",
       "      <td>0.789283</td>\n",
       "      <td>0.757880</td>\n",
       "      <td>0.587774</td>\n",
       "      <td>0.549687</td>\n",
       "      <td>1.000000</td>\n",
       "      <td>0.520372</td>\n",
       "      <td>-0.021242</td>\n",
       "    </tr>\n",
       "    <tr>\n",
       "      <th>UNI</th>\n",
       "      <td>0.378905</td>\n",
       "      <td>0.373443</td>\n",
       "      <td>0.058113</td>\n",
       "      <td>0.596897</td>\n",
       "      <td>0.448729</td>\n",
       "      <td>0.501810</td>\n",
       "      <td>0.370527</td>\n",
       "      <td>0.520372</td>\n",
       "      <td>1.000000</td>\n",
       "      <td>-0.024322</td>\n",
       "    </tr>\n",
       "    <tr>\n",
       "      <th>USDC</th>\n",
       "      <td>-0.099920</td>\n",
       "      <td>-0.090600</td>\n",
       "      <td>-0.054572</td>\n",
       "      <td>-0.067308</td>\n",
       "      <td>-0.056161</td>\n",
       "      <td>-0.024436</td>\n",
       "      <td>0.021483</td>\n",
       "      <td>-0.021242</td>\n",
       "      <td>-0.024322</td>\n",
       "      <td>1.000000</td>\n",
       "    </tr>\n",
       "  </tbody>\n",
       "</table>\n",
       "</div>"
      ],
      "text/plain": [
       "           XRP       SOL      DOGE       ETH       BIT       ADA       CRO  \\\n",
       "XRP   1.000000  0.364780  0.124751  0.489068  0.448689  0.435116  0.432728   \n",
       "SOL   0.364780  1.000000  0.103556  0.499347  0.340987  0.387496  0.382813   \n",
       "DOGE  0.124751  0.103556  1.000000  0.200093  0.271011  0.193467  0.165408   \n",
       "ETH   0.489068  0.499347  0.200093  1.000000  0.726308  0.629777  0.524725   \n",
       "BIT   0.448689  0.340987  0.271011  0.726308  1.000000  0.536731  0.581834   \n",
       "ADA   0.435116  0.387496  0.193467  0.629777  0.536731  1.000000  0.489467   \n",
       "CRO   0.432728  0.382813  0.165408  0.524725  0.581834  0.489467  1.000000   \n",
       "LTC   0.560076  0.395553  0.252392  0.789283  0.757880  0.587774  0.549687   \n",
       "UNI   0.378905  0.373443  0.058113  0.596897  0.448729  0.501810  0.370527   \n",
       "USDC -0.099920 -0.090600 -0.054572 -0.067308 -0.056161 -0.024436  0.021483   \n",
       "\n",
       "           LTC       UNI      USDC  \n",
       "XRP   0.560076  0.378905 -0.099920  \n",
       "SOL   0.395553  0.373443 -0.090600  \n",
       "DOGE  0.252392  0.058113 -0.054572  \n",
       "ETH   0.789283  0.596897 -0.067308  \n",
       "BIT   0.757880  0.448729 -0.056161  \n",
       "ADA   0.587774  0.501810 -0.024436  \n",
       "CRO   0.549687  0.370527  0.021483  \n",
       "LTC   1.000000  0.520372 -0.021242  \n",
       "UNI   0.520372  1.000000 -0.024322  \n",
       "USDC -0.021242 -0.024322  1.000000  "
      ]
     },
     "execution_count": 20,
     "metadata": {},
     "output_type": "execute_result"
    }
   ],
   "source": [
    "correlation = crypto_returns.corr()\n",
    "correlation"
   ]
  },
  {
   "cell_type": "code",
   "execution_count": 21,
   "id": "fa6435c3-b466-431b-9ad6-74be3e51d0a9",
   "metadata": {},
   "outputs": [
    {
     "data": {
      "text/plain": [
       "<matplotlib.axes._subplots.AxesSubplot at 0x1de3bdf4910>"
      ]
     },
     "execution_count": 21,
     "metadata": {},
     "output_type": "execute_result"
    },
    {
     "data": {
      "image/png": "[encoded data removed]",
      "text/plain": [
       "<Figure size 432x288 with 2 Axes>"
      ]
     },
     "metadata": {
      "needs_background": "light"
     },
     "output_type": "display_data"
    }
   ],
   "source": [
    "# import libray and use heatmap funtion to visylaize correlation table\n",
    "import seaborn as sns\n",
    "sns.heatmap(correlation, vmin=1, vmax=1)"
   ]
  },
  {
   "cell_type": "code",
   "execution_count": 22,
   "id": "fdf9d16d-c106-4c3f-9f42-73824f3b7572",
   "metadata": {},
   "outputs": [
    {
     "data": {
      "text/plain": [
       "USDC    0.582922\n",
       "DOGE    2.314220\n",
       "SOL     3.757375\n",
       "XRP     4.134193\n",
       "UNI     4.224473\n",
       "CRO     4.518672\n",
       "ADA     4.737203\n",
       "BIT     5.056008\n",
       "ETH     5.388190\n",
       "LTC     5.391775\n",
       "dtype: float64"
      ]
     },
     "execution_count": 22,
     "metadata": {},
     "output_type": "execute_result"
    }
   ],
   "source": [
    "# Alternatively, sum total correlation for each stock\n",
    "correlation.sum(axis=0).sort_values()"
   ]
  },
  {
   "cell_type": "markdown",
   "id": "cb559bc9-7cb1-4b88-939b-915f0967c903",
   "metadata": {},
   "source": [
    "## Drop the two most correlated"
   ]
  },
  {
   "cell_type": "code",
   "execution_count": 23,
   "id": "350a7f3e-a510-4ed7-8729-2928fd1cadd8",
   "metadata": {},
   "outputs": [
    {
     "data": {
      "text/html": [
       "<div>\n",
       "<style scoped>\n",
       "    .dataframe tbody tr th:only-of-type {\n",
       "        vertical-align: middle;\n",
       "    }\n",
       "\n",
       "    .dataframe tbody tr th {\n",
       "        vertical-align: top;\n",
       "    }\n",
       "\n",
       "    .dataframe thead th {\n",
       "        text-align: right;\n",
       "    }\n",
       "</style>\n",
       "<table border=\"1\" class=\"dataframe\">\n",
       "  <thead>\n",
       "    <tr style=\"text-align: right;\">\n",
       "      <th></th>\n",
       "      <th>SOL</th>\n",
       "      <th>DOGE</th>\n",
       "      <th>ETH</th>\n",
       "      <th>BIT</th>\n",
       "      <th>ADA</th>\n",
       "      <th>CRO</th>\n",
       "      <th>LTC</th>\n",
       "      <th>UNI</th>\n",
       "    </tr>\n",
       "    <tr>\n",
       "      <th>Date</th>\n",
       "      <th></th>\n",
       "      <th></th>\n",
       "      <th></th>\n",
       "      <th></th>\n",
       "      <th></th>\n",
       "      <th></th>\n",
       "      <th></th>\n",
       "      <th></th>\n",
       "    </tr>\n",
       "  </thead>\n",
       "  <tbody>\n",
       "    <tr>\n",
       "      <th>2020-09-18 23:59:59</th>\n",
       "      <td>NaN</td>\n",
       "      <td>NaN</td>\n",
       "      <td>NaN</td>\n",
       "      <td>NaN</td>\n",
       "      <td>NaN</td>\n",
       "      <td>NaN</td>\n",
       "      <td>NaN</td>\n",
       "      <td>NaN</td>\n",
       "    </tr>\n",
       "    <tr>\n",
       "      <th>2020-09-19 23:59:59</th>\n",
       "      <td>-0.025434</td>\n",
       "      <td>-0.003731</td>\n",
       "      <td>0.003070</td>\n",
       "      <td>0.013684</td>\n",
       "      <td>0.006322</td>\n",
       "      <td>0.009333</td>\n",
       "      <td>0.004416</td>\n",
       "      <td>-0.170038</td>\n",
       "    </tr>\n",
       "    <tr>\n",
       "      <th>2020-09-20 23:59:59</th>\n",
       "      <td>-0.052160</td>\n",
       "      <td>-0.005637</td>\n",
       "      <td>-0.037587</td>\n",
       "      <td>-0.014068</td>\n",
       "      <td>-0.024265</td>\n",
       "      <td>-0.049182</td>\n",
       "      <td>-0.032383</td>\n",
       "      <td>-0.083898</td>\n",
       "    </tr>\n",
       "    <tr>\n",
       "      <th>2020-09-21 23:59:59</th>\n",
       "      <td>-0.030790</td>\n",
       "      <td>-0.053150</td>\n",
       "      <td>-0.078875</td>\n",
       "      <td>-0.043518</td>\n",
       "      <td>-0.100691</td>\n",
       "      <td>-0.045826</td>\n",
       "      <td>-0.078774</td>\n",
       "      <td>-0.186514</td>\n",
       "    </tr>\n",
       "    <tr>\n",
       "      <th>2020-09-22 23:59:59</th>\n",
       "      <td>0.047802</td>\n",
       "      <td>0.009770</td>\n",
       "      <td>0.007950</td>\n",
       "      <td>0.007283</td>\n",
       "      <td>0.016490</td>\n",
       "      <td>0.002565</td>\n",
       "      <td>0.026615</td>\n",
       "      <td>-0.084607</td>\n",
       "    </tr>\n",
       "  </tbody>\n",
       "</table>\n",
       "</div>"
      ],
      "text/plain": [
       "                          SOL      DOGE       ETH       BIT       ADA  \\\n",
       "Date                                                                    \n",
       "2020-09-18 23:59:59       NaN       NaN       NaN       NaN       NaN   \n",
       "2020-09-19 23:59:59 -0.025434 -0.003731  0.003070  0.013684  0.006322   \n",
       "2020-09-20 23:59:59 -0.052160 -0.005637 -0.037587 -0.014068 -0.024265   \n",
       "2020-09-21 23:59:59 -0.030790 -0.053150 -0.078875 -0.043518 -0.100691   \n",
       "2020-09-22 23:59:59  0.047802  0.009770  0.007950  0.007283  0.016490   \n",
       "\n",
       "                          CRO       LTC       UNI  \n",
       "Date                                               \n",
       "2020-09-18 23:59:59       NaN       NaN       NaN  \n",
       "2020-09-19 23:59:59  0.009333  0.004416 -0.170038  \n",
       "2020-09-20 23:59:59 -0.049182 -0.032383 -0.083898  \n",
       "2020-09-21 23:59:59 -0.045826 -0.078774 -0.186514  \n",
       "2020-09-22 23:59:59  0.002565  0.026615 -0.084607  "
      ]
     },
     "execution_count": 23,
     "metadata": {},
     "output_type": "execute_result"
    }
   ],
   "source": [
    "noncorrelated_crypto_gains = crypto_returns.drop(columns=[\"XRP\", \"USDC\"])\n",
    "noncorrelated_crypto_gains.head()"
   ]
  },
  {
   "cell_type": "markdown",
   "id": "d4536412-9aa3-4937-839c-dd29f9d712df",
   "metadata": {},
   "source": [
    "## Evaluate Reward to Risk(Sharpe Ratio) of minimum correlated crypto\n"
   ]
  },
  {
   "cell_type": "code",
   "execution_count": 24,
   "id": "079664f4-8fe4-4608-94cf-f12b4b943d0d",
   "metadata": {},
   "outputs": [
    {
     "data": {
      "text/plain": [
       "SOL     2.134604\n",
       "DOGE    1.905102\n",
       "ETH     2.152474\n",
       "BIT     1.788478\n",
       "ADA     2.598167\n",
       "CRO     0.307811\n",
       "LTC     1.413568\n",
       "UNI     1.396420\n",
       "dtype: float64"
      ]
     },
     "execution_count": 24,
     "metadata": {},
     "output_type": "execute_result"
    }
   ],
   "source": [
    "sharpe_ratio = (noncorrelated_crypto_gains.mean() * 252) / (noncorrelated_crypto_gains.std() * np.sqrt(252))\n",
    "sharpe_ratio"
   ]
  },
  {
   "cell_type": "code",
   "execution_count": 25,
   "id": "4fd1f429-ba32-4ee9-abdf-54d091f12f61",
   "metadata": {},
   "outputs": [
    {
     "data": {
      "text/html": [
       "<div>\n",
       "<style scoped>\n",
       "    .dataframe tbody tr th:only-of-type {\n",
       "        vertical-align: middle;\n",
       "    }\n",
       "\n",
       "    .dataframe tbody tr th {\n",
       "        vertical-align: top;\n",
       "    }\n",
       "\n",
       "    .dataframe thead th {\n",
       "        text-align: right;\n",
       "    }\n",
       "</style>\n",
       "<table border=\"1\" class=\"dataframe\">\n",
       "  <thead>\n",
       "    <tr style=\"text-align: right;\">\n",
       "      <th></th>\n",
       "      <th>SOL</th>\n",
       "      <th>DOGE</th>\n",
       "      <th>ETH</th>\n",
       "      <th>BIT</th>\n",
       "      <th>ADA</th>\n",
       "    </tr>\n",
       "    <tr>\n",
       "      <th>Date</th>\n",
       "      <th></th>\n",
       "      <th></th>\n",
       "      <th></th>\n",
       "      <th></th>\n",
       "      <th></th>\n",
       "    </tr>\n",
       "  </thead>\n",
       "  <tbody>\n",
       "    <tr>\n",
       "      <th>2020-09-18 23:59:59</th>\n",
       "      <td>NaN</td>\n",
       "      <td>NaN</td>\n",
       "      <td>NaN</td>\n",
       "      <td>NaN</td>\n",
       "      <td>NaN</td>\n",
       "    </tr>\n",
       "    <tr>\n",
       "      <th>2020-09-19 23:59:59</th>\n",
       "      <td>-0.025434</td>\n",
       "      <td>-0.003731</td>\n",
       "      <td>0.003070</td>\n",
       "      <td>0.013684</td>\n",
       "      <td>0.006322</td>\n",
       "    </tr>\n",
       "    <tr>\n",
       "      <th>2020-09-20 23:59:59</th>\n",
       "      <td>-0.052160</td>\n",
       "      <td>-0.005637</td>\n",
       "      <td>-0.037587</td>\n",
       "      <td>-0.014068</td>\n",
       "      <td>-0.024265</td>\n",
       "    </tr>\n",
       "    <tr>\n",
       "      <th>2020-09-21 23:59:59</th>\n",
       "      <td>-0.030790</td>\n",
       "      <td>-0.053150</td>\n",
       "      <td>-0.078875</td>\n",
       "      <td>-0.043518</td>\n",
       "      <td>-0.100691</td>\n",
       "    </tr>\n",
       "    <tr>\n",
       "      <th>2020-09-22 23:59:59</th>\n",
       "      <td>0.047802</td>\n",
       "      <td>0.009770</td>\n",
       "      <td>0.007950</td>\n",
       "      <td>0.007283</td>\n",
       "      <td>0.016490</td>\n",
       "    </tr>\n",
       "  </tbody>\n",
       "</table>\n",
       "</div>"
      ],
      "text/plain": [
       "                          SOL      DOGE       ETH       BIT       ADA\n",
       "Date                                                                 \n",
       "2020-09-18 23:59:59       NaN       NaN       NaN       NaN       NaN\n",
       "2020-09-19 23:59:59 -0.025434 -0.003731  0.003070  0.013684  0.006322\n",
       "2020-09-20 23:59:59 -0.052160 -0.005637 -0.037587 -0.014068 -0.024265\n",
       "2020-09-21 23:59:59 -0.030790 -0.053150 -0.078875 -0.043518 -0.100691\n",
       "2020-09-22 23:59:59  0.047802  0.009770  0.007950  0.007283  0.016490"
      ]
     },
     "execution_count": 25,
     "metadata": {},
     "output_type": "execute_result"
    }
   ],
   "source": [
    "# Drop the 3 lowest Sharpe Ratio Crypto\n",
    "condition_daily_gains = noncorrelated_crypto_gains.drop(columns=[\"CRO\", \"UNI\", \"LTC\"])\n",
    "condition_daily_gains.head()"
   ]
  },
  {
   "cell_type": "markdown",
   "id": "d9631f52-52ee-43da-84fc-afae750a7b92",
   "metadata": {},
   "source": [
    "### Evaluate Investment in Minimally-Correlated (Diversified) and Return-to-Risk (Sharpe Ratio) Optimized Portfolio"
   ]
  },
  {
   "cell_type": "code",
   "execution_count": 26,
   "id": "1f7bde0f-0845-44f3-a89d-445d14289d66",
   "metadata": {},
   "outputs": [
    {
     "data": {
      "text/plain": [
       "<matplotlib.axes._subplots.AxesSubplot at 0x1de3b01f5e0>"
      ]
     },
     "execution_count": 26,
     "metadata": {},
     "output_type": "execute_result"
    },
    {
     "data": {
      "image/png": "[encoded data removed]",
      "text/plain": [
       "<Figure size 1440x720 with 1 Axes>"
      ]
     },
     "metadata": {
      "needs_background": "light"
     },
     "output_type": "display_data"
    }
   ],
   "source": [
    "# Set Portfolio Weights, Calculate Daily and Cumulative Portfolio Returns, and Plot $10,000 Investment Over Time for Optimized Portfolio\n",
    "initial_investment = 10000\n",
    "weights = [.2, .2, .2, .2, .2]\n",
    "condition_portfolio_gains = condition_daily_gains.dot(weights)\n",
    "condition_cumulative_gains = (1 + condition_portfolio_gains).cumprod()\n",
    "condition_cumulative_profits = (initial_investment * condition_cumulative_gains)\n",
    "condition_cumulative_profits.plot(figsize=(20,10))"
   ]
  },
  {
   "cell_type": "markdown",
   "id": "1fd1d463-ea21-44bc-ba19-7888996796c4",
   "metadata": {},
   "source": [
    "### Evaluate Investment in Non-Correlated (Diversified) Portfolio"
   ]
  },
  {
   "cell_type": "code",
   "execution_count": 27,
   "id": "685c04ca-af86-43c0-8485-6f94e8a90038",
   "metadata": {},
   "outputs": [
    {
     "data": {
      "text/plain": [
       "<matplotlib.axes._subplots.AxesSubplot at 0x1de3bf1b640>"
      ]
     },
     "execution_count": 27,
     "metadata": {},
     "output_type": "execute_result"
    },
    {
     "data": {
      "image/png": "[encoded data removed]",
      "text/plain": [
       "<Figure size 1440x720 with 1 Axes>"
      ]
     },
     "metadata": {
      "needs_background": "light"
     },
     "output_type": "display_data"
    }
   ],
   "source": [
    "# Set Portfolio Weights, Calculate Daily and Cumulative Portfolio Returns, and Plot $10,000 Investment Over Time for Uncorrelated Portfolio\n",
    "initial_investment = 10000\n",
    "weights = [0.125, 0.125, 0.125, 0.125, 0.125, 0.125, 0.125, 0.125]\n",
    "noncorrelated_portfolio_gains = noncorrelated_crypto_gains.dot(weights)\n",
    "noncorrelated_cumulative_gains = (1 + noncorrelated_portfolio_gains).cumprod()\n",
    "noncorrelated_cumulative_profits = (initial_investment * noncorrelated_cumulative_gains)\n",
    "noncorrelated_cumulative_profits.plot(figsize=(20,10))"
   ]
  },
  {
   "cell_type": "markdown",
   "id": "614ae177-cad8-49e5-8f6f-4f93d21c1c84",
   "metadata": {},
   "source": [
    "### Evaluate Investment in Original/Unoptimized Portfolio (No Modifications)"
   ]
  },
  {
   "cell_type": "code",
   "execution_count": 28,
   "id": "4d23442f-92df-448b-9d6e-4f830b56815f",
   "metadata": {},
   "outputs": [
    {
     "data": {
      "text/plain": [
       "<matplotlib.axes._subplots.AxesSubplot at 0x1de3bf7cc70>"
      ]
     },
     "execution_count": 28,
     "metadata": {},
     "output_type": "execute_result"
    },
    {
     "data": {
      "image/png": "[encoded data removed]",
      "text/plain": [
       "<Figure size 1440x720 with 1 Axes>"
      ]
     },
     "metadata": {
      "needs_background": "light"
     },
     "output_type": "display_data"
    }
   ],
   "source": [
    "# Set Portfolio Weights, Calculate Daily and Cumulative Portfolio Returns, and Plot $10,000 Investment Over Time for Unoptimized Portfolio\n",
    "initial_investment = 10000\n",
    "weights = [0.1, 0.1, 0.1, 0.1, 0.1, 0.1, 0.1, 0.1, 0.1, 0.1]\n",
    "unoptimized_portfolio_gains = all_crypto.dot(weights)\n",
    "unoptimized_cumulative_gains = (1 + unoptimized_portfolio_gains).cumprod()\n",
    "unoptimized_cumulative_profits = (initial_investment * unoptimized_cumulative_gains)\n",
    "unoptimized_cumulative_profits.plot(figsize=(20,10))"
   ]
  },
  {
   "cell_type": "markdown",
   "id": "1f362cd7-cb67-4592-9a07-f8d146c255af",
   "metadata": {},
   "source": [
    "## Overlay Hypothetical Portfolio Investments"
   ]
  },
  {
   "cell_type": "code",
   "execution_count": 29,
   "id": "ac1fa202-3200-4cd3-9184-cae50edf7557",
   "metadata": {},
   "outputs": [
    {
     "data": {
      "text/plain": [
       "<matplotlib.legend.Legend at 0x1de3bebdbe0>"
      ]
     },
     "execution_count": 29,
     "metadata": {},
     "output_type": "execute_result"
    },
    {
     "data": {
      "image/png": "[encoded data removed]",
      "text/plain": [
       "<Figure size 1440x720 with 1 Axes>"
      ]
     },
     "metadata": {
      "needs_background": "light"
     },
     "output_type": "display_data"
    }
   ],
   "source": [
    "# Set the figure of the chart and plot each data trend on the single figure\n",
    "ax = condition_cumulative_profits.plot(figsize=(20,10))\n",
    "noncorrelated_cumulative_profits.plot(ax=ax)\n",
    "unoptimized_cumulative_profits.plot(ax=ax)\n",
    "cumulative_profits.plot(ax=ax)\n",
    "\n",
    "ax.legend(['PART 2: Diversified and Return-to-Risk Optimized Portfolio $10,000', \n",
    "           'PART 2: Diversified Portfolio $10,000', \n",
    "           'PART 2: Original/Unoptimized Portfolio $10,000', \n",
    "           'PART 1: Risk-Optimized Portfolio $10,000'])"
   ]
  },
  {
   "cell_type": "code",
   "execution_count": null,
   "id": "199c6b8e-dd47-4126-99bb-c936ac1f6d7e",
   "metadata": {},
   "outputs": [],
   "source": []
  },
  {
   "cell_type": "code",
   "execution_count": null,
   "id": "14fe98b1-284e-4829-980a-abcca2dea1c1",
   "metadata": {},
   "outputs": [],
   "source": []
  },
  {
   "cell_type": "code",
   "execution_count": null,
   "id": "e3bb5bd9-3264-44ab-a978-3f401837cac8",
   "metadata": {},
   "outputs": [],
   "source": []
  }
 ],
 "metadata": {
  "kernelspec": {
   "display_name": "Python 3",
   "language": "python",
   "name": "python3"
  },
  "language_info": {
   "codemirror_mode": {
    "name": "ipython",
    "version": 3
   },
   "file_extension": ".py",
   "mimetype": "text/x-python",
   "name": "python",
   "nbconvert_exporter": "python",
   "pygments_lexer": "ipython3",
   "version": "3.8.8"
  }
 },
 "nbformat": 4,
 "nbformat_minor": 5
}
